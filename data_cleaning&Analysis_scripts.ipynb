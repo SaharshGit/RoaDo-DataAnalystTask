{
  "nbformat": 4,
  "nbformat_minor": 0,
  "metadata": {
    "colab": {
      "provenance": [],
      "authorship_tag": "ABX9TyPGJ03pMdeh3afr7a4BAfz3",
      "include_colab_link": true
    },
    "kernelspec": {
      "name": "python3",
      "display_name": "Python 3"
    },
    "language_info": {
      "name": "python"
    }
  },
  "cells": [
    {
      "cell_type": "markdown",
      "metadata": {
        "id": "view-in-github",
        "colab_type": "text"
      },
      "source": [
        "<a href=\"https://colab.research.google.com/github/SaharshGit/RoaDo-DataAnalystTask/blob/main/data_cleaning%26Analysis_scripts.ipynb\" target=\"_parent\"><img src=\"https://colab.research.google.com/assets/colab-badge.svg\" alt=\"Open In Colab\"/></a>"
      ]
    },
    {
      "cell_type": "markdown",
      "source": [
        "## NYC Taxi and Limousine Commission (TLC) -> Yellow Taxi Trip Record 2025 data\n",
        "\n",
        "you can download data from original sources if not possible use this link\n",
        "https://drive.google.com/drive/folders/1t05bw0aHt_S6M8LbUiXfKW6LzCDgJ_eK?usp=sharing\n"
      ],
      "metadata": {
        "id": "oPV4vEWq5LAS"
      }
    },
    {
      "cell_type": "markdown",
      "source": [
        "installing necessary libraries"
      ],
      "metadata": {
        "id": "BjTrLXcq58RH"
      }
    },
    {
      "cell_type": "code",
      "execution_count": null,
      "metadata": {
        "colab": {
          "base_uri": "https://localhost:8080/"
        },
        "collapsed": true,
        "id": "FIbXeTJe48Im",
        "outputId": "03aafb21-4123-498e-81b0-17bc835becb5"
      },
      "outputs": [
        {
          "output_type": "stream",
          "name": "stdout",
          "text": [
            "Requirement already satisfied: pandas in /usr/local/lib/python3.12/dist-packages (2.2.2)\n",
            "Requirement already satisfied: pyarrow in /usr/local/lib/python3.12/dist-packages (18.1.0)\n",
            "Requirement already satisfied: numpy>=1.26.0 in /usr/local/lib/python3.12/dist-packages (from pandas) (2.0.2)\n",
            "Requirement already satisfied: python-dateutil>=2.8.2 in /usr/local/lib/python3.12/dist-packages (from pandas) (2.9.0.post0)\n",
            "Requirement already satisfied: pytz>=2020.1 in /usr/local/lib/python3.12/dist-packages (from pandas) (2025.2)\n",
            "Requirement already satisfied: tzdata>=2022.7 in /usr/local/lib/python3.12/dist-packages (from pandas) (2025.2)\n",
            "Requirement already satisfied: six>=1.5 in /usr/local/lib/python3.12/dist-packages (from python-dateutil>=2.8.2->pandas) (1.17.0)\n"
          ]
        }
      ],
      "source": [
        "!pip install pandas pyarrow"
      ]
    },
    {
      "cell_type": "markdown",
      "source": [
        "importing required libraries"
      ],
      "metadata": {
        "id": "HdX5FLou6yZi"
      }
    },
    {
      "cell_type": "code",
      "source": [
        "import pandas as pd"
      ],
      "metadata": {
        "id": "gTttHfwW6C-V"
      },
      "execution_count": null,
      "outputs": []
    },
    {
      "cell_type": "markdown",
      "source": [
        "importing data as pandas Dataframe"
      ],
      "metadata": {
        "id": "wXAc7q4S7xAY"
      }
    },
    {
      "cell_type": "code",
      "source": [
        "df = pd.read_parquet(\"/content/yellow_tripdata_2025-01.parquet\")"
      ],
      "metadata": {
        "id": "bfPs42q86rw5"
      },
      "execution_count": null,
      "outputs": []
    },
    {
      "cell_type": "code",
      "source": [
        "# Verify the data loaded correctly\n",
        "df.sample(5)"
      ],
      "metadata": {
        "colab": {
          "base_uri": "https://localhost:8080/",
          "height": 226
        },
        "id": "V84LRz1H7FDz",
        "outputId": "4fb4f187-ea4a-4536-8e1c-0b2d850867c6"
      },
      "execution_count": null,
      "outputs": [
        {
          "output_type": "execute_result",
          "data": {
            "text/plain": [
              "         VendorID tpep_pickup_datetime tpep_dropoff_datetime  passenger_count  \\\n",
              "2776650         2  2025-01-30 16:10:43   2025-01-30 16:17:39              1.0   \n",
              "901388          2  2025-01-11 10:45:50   2025-01-11 11:02:14              1.0   \n",
              "606573          1  2025-01-08 11:17:56   2025-01-08 11:27:23              1.0   \n",
              "157831          2  2025-01-03 01:25:28   2025-01-03 02:00:22              2.0   \n",
              "91148           1  2025-01-02 11:36:35   2025-01-02 11:58:30              1.0   \n",
              "\n",
              "         trip_distance  RatecodeID store_and_fwd_flag  PULocationID  \\\n",
              "2776650           0.84         1.0                  N           224   \n",
              "901388            3.32         1.0                  N           141   \n",
              "606573            1.00         1.0                  N           162   \n",
              "157831           18.37         2.0                  N           132   \n",
              "91148             1.80         1.0                  N           186   \n",
              "\n",
              "         DOLocationID  payment_type  fare_amount  extra  mta_tax  tip_amount  \\\n",
              "2776650           164             2          7.9   2.50      0.5        0.00   \n",
              "901388             50             4        -19.1   0.00     -0.5        0.00   \n",
              "606573            186             1         10.0   3.25      0.5        2.95   \n",
              "157831            230             2         70.0   0.00      0.5        0.00   \n",
              "91148              43             1         18.4   2.50      0.5        4.50   \n",
              "\n",
              "         tolls_amount  improvement_surcharge  total_amount  \\\n",
              "2776650          0.00                    1.0         15.15   \n",
              "901388           0.00                   -1.0        -23.85   \n",
              "606573           0.00                    1.0         17.70   \n",
              "157831           6.94                    1.0         82.69   \n",
              "91148            0.00                    1.0         26.90   \n",
              "\n",
              "         congestion_surcharge  Airport_fee  cbd_congestion_fee  \n",
              "2776650                   2.5         0.00                0.75  \n",
              "901388                   -2.5         0.00                0.00  \n",
              "606573                    2.5         0.00                0.75  \n",
              "157831                    2.5         1.75                0.00  \n",
              "91148                     2.5         0.00                0.00  "
            ],
            "text/html": [
              "\n",
              "  <div id=\"df-036e2067-a5aa-4ecc-ab67-aea40c084bca\" class=\"colab-df-container\">\n",
              "    <div>\n",
              "<style scoped>\n",
              "    .dataframe tbody tr th:only-of-type {\n",
              "        vertical-align: middle;\n",
              "    }\n",
              "\n",
              "    .dataframe tbody tr th {\n",
              "        vertical-align: top;\n",
              "    }\n",
              "\n",
              "    .dataframe thead th {\n",
              "        text-align: right;\n",
              "    }\n",
              "</style>\n",
              "<table border=\"1\" class=\"dataframe\">\n",
              "  <thead>\n",
              "    <tr style=\"text-align: right;\">\n",
              "      <th></th>\n",
              "      <th>VendorID</th>\n",
              "      <th>tpep_pickup_datetime</th>\n",
              "      <th>tpep_dropoff_datetime</th>\n",
              "      <th>passenger_count</th>\n",
              "      <th>trip_distance</th>\n",
              "      <th>RatecodeID</th>\n",
              "      <th>store_and_fwd_flag</th>\n",
              "      <th>PULocationID</th>\n",
              "      <th>DOLocationID</th>\n",
              "      <th>payment_type</th>\n",
              "      <th>fare_amount</th>\n",
              "      <th>extra</th>\n",
              "      <th>mta_tax</th>\n",
              "      <th>tip_amount</th>\n",
              "      <th>tolls_amount</th>\n",
              "      <th>improvement_surcharge</th>\n",
              "      <th>total_amount</th>\n",
              "      <th>congestion_surcharge</th>\n",
              "      <th>Airport_fee</th>\n",
              "      <th>cbd_congestion_fee</th>\n",
              "    </tr>\n",
              "  </thead>\n",
              "  <tbody>\n",
              "    <tr>\n",
              "      <th>2776650</th>\n",
              "      <td>2</td>\n",
              "      <td>2025-01-30 16:10:43</td>\n",
              "      <td>2025-01-30 16:17:39</td>\n",
              "      <td>1.0</td>\n",
              "      <td>0.84</td>\n",
              "      <td>1.0</td>\n",
              "      <td>N</td>\n",
              "      <td>224</td>\n",
              "      <td>164</td>\n",
              "      <td>2</td>\n",
              "      <td>7.9</td>\n",
              "      <td>2.50</td>\n",
              "      <td>0.5</td>\n",
              "      <td>0.00</td>\n",
              "      <td>0.00</td>\n",
              "      <td>1.0</td>\n",
              "      <td>15.15</td>\n",
              "      <td>2.5</td>\n",
              "      <td>0.00</td>\n",
              "      <td>0.75</td>\n",
              "    </tr>\n",
              "    <tr>\n",
              "      <th>901388</th>\n",
              "      <td>2</td>\n",
              "      <td>2025-01-11 10:45:50</td>\n",
              "      <td>2025-01-11 11:02:14</td>\n",
              "      <td>1.0</td>\n",
              "      <td>3.32</td>\n",
              "      <td>1.0</td>\n",
              "      <td>N</td>\n",
              "      <td>141</td>\n",
              "      <td>50</td>\n",
              "      <td>4</td>\n",
              "      <td>-19.1</td>\n",
              "      <td>0.00</td>\n",
              "      <td>-0.5</td>\n",
              "      <td>0.00</td>\n",
              "      <td>0.00</td>\n",
              "      <td>-1.0</td>\n",
              "      <td>-23.85</td>\n",
              "      <td>-2.5</td>\n",
              "      <td>0.00</td>\n",
              "      <td>0.00</td>\n",
              "    </tr>\n",
              "    <tr>\n",
              "      <th>606573</th>\n",
              "      <td>1</td>\n",
              "      <td>2025-01-08 11:17:56</td>\n",
              "      <td>2025-01-08 11:27:23</td>\n",
              "      <td>1.0</td>\n",
              "      <td>1.00</td>\n",
              "      <td>1.0</td>\n",
              "      <td>N</td>\n",
              "      <td>162</td>\n",
              "      <td>186</td>\n",
              "      <td>1</td>\n",
              "      <td>10.0</td>\n",
              "      <td>3.25</td>\n",
              "      <td>0.5</td>\n",
              "      <td>2.95</td>\n",
              "      <td>0.00</td>\n",
              "      <td>1.0</td>\n",
              "      <td>17.70</td>\n",
              "      <td>2.5</td>\n",
              "      <td>0.00</td>\n",
              "      <td>0.75</td>\n",
              "    </tr>\n",
              "    <tr>\n",
              "      <th>157831</th>\n",
              "      <td>2</td>\n",
              "      <td>2025-01-03 01:25:28</td>\n",
              "      <td>2025-01-03 02:00:22</td>\n",
              "      <td>2.0</td>\n",
              "      <td>18.37</td>\n",
              "      <td>2.0</td>\n",
              "      <td>N</td>\n",
              "      <td>132</td>\n",
              "      <td>230</td>\n",
              "      <td>2</td>\n",
              "      <td>70.0</td>\n",
              "      <td>0.00</td>\n",
              "      <td>0.5</td>\n",
              "      <td>0.00</td>\n",
              "      <td>6.94</td>\n",
              "      <td>1.0</td>\n",
              "      <td>82.69</td>\n",
              "      <td>2.5</td>\n",
              "      <td>1.75</td>\n",
              "      <td>0.00</td>\n",
              "    </tr>\n",
              "    <tr>\n",
              "      <th>91148</th>\n",
              "      <td>1</td>\n",
              "      <td>2025-01-02 11:36:35</td>\n",
              "      <td>2025-01-02 11:58:30</td>\n",
              "      <td>1.0</td>\n",
              "      <td>1.80</td>\n",
              "      <td>1.0</td>\n",
              "      <td>N</td>\n",
              "      <td>186</td>\n",
              "      <td>43</td>\n",
              "      <td>1</td>\n",
              "      <td>18.4</td>\n",
              "      <td>2.50</td>\n",
              "      <td>0.5</td>\n",
              "      <td>4.50</td>\n",
              "      <td>0.00</td>\n",
              "      <td>1.0</td>\n",
              "      <td>26.90</td>\n",
              "      <td>2.5</td>\n",
              "      <td>0.00</td>\n",
              "      <td>0.00</td>\n",
              "    </tr>\n",
              "  </tbody>\n",
              "</table>\n",
              "</div>\n",
              "    <div class=\"colab-df-buttons\">\n",
              "\n",
              "  <div class=\"colab-df-container\">\n",
              "    <button class=\"colab-df-convert\" onclick=\"convertToInteractive('df-036e2067-a5aa-4ecc-ab67-aea40c084bca')\"\n",
              "            title=\"Convert this dataframe to an interactive table.\"\n",
              "            style=\"display:none;\">\n",
              "\n",
              "  <svg xmlns=\"http://www.w3.org/2000/svg\" height=\"24px\" viewBox=\"0 -960 960 960\">\n",
              "    <path d=\"M120-120v-720h720v720H120Zm60-500h600v-160H180v160Zm220 220h160v-160H400v160Zm0 220h160v-160H400v160ZM180-400h160v-160H180v160Zm440 0h160v-160H620v160ZM180-180h160v-160H180v160Zm440 0h160v-160H620v160Z\"/>\n",
              "  </svg>\n",
              "    </button>\n",
              "\n",
              "  <style>\n",
              "    .colab-df-container {\n",
              "      display:flex;\n",
              "      gap: 12px;\n",
              "    }\n",
              "\n",
              "    .colab-df-convert {\n",
              "      background-color: #E8F0FE;\n",
              "      border: none;\n",
              "      border-radius: 50%;\n",
              "      cursor: pointer;\n",
              "      display: none;\n",
              "      fill: #1967D2;\n",
              "      height: 32px;\n",
              "      padding: 0 0 0 0;\n",
              "      width: 32px;\n",
              "    }\n",
              "\n",
              "    .colab-df-convert:hover {\n",
              "      background-color: #E2EBFA;\n",
              "      box-shadow: 0px 1px 2px rgba(60, 64, 67, 0.3), 0px 1px 3px 1px rgba(60, 64, 67, 0.15);\n",
              "      fill: #174EA6;\n",
              "    }\n",
              "\n",
              "    .colab-df-buttons div {\n",
              "      margin-bottom: 4px;\n",
              "    }\n",
              "\n",
              "    [theme=dark] .colab-df-convert {\n",
              "      background-color: #3B4455;\n",
              "      fill: #D2E3FC;\n",
              "    }\n",
              "\n",
              "    [theme=dark] .colab-df-convert:hover {\n",
              "      background-color: #434B5C;\n",
              "      box-shadow: 0px 1px 3px 1px rgba(0, 0, 0, 0.15);\n",
              "      filter: drop-shadow(0px 1px 2px rgba(0, 0, 0, 0.3));\n",
              "      fill: #FFFFFF;\n",
              "    }\n",
              "  </style>\n",
              "\n",
              "    <script>\n",
              "      const buttonEl =\n",
              "        document.querySelector('#df-036e2067-a5aa-4ecc-ab67-aea40c084bca button.colab-df-convert');\n",
              "      buttonEl.style.display =\n",
              "        google.colab.kernel.accessAllowed ? 'block' : 'none';\n",
              "\n",
              "      async function convertToInteractive(key) {\n",
              "        const element = document.querySelector('#df-036e2067-a5aa-4ecc-ab67-aea40c084bca');\n",
              "        const dataTable =\n",
              "          await google.colab.kernel.invokeFunction('convertToInteractive',\n",
              "                                                    [key], {});\n",
              "        if (!dataTable) return;\n",
              "\n",
              "        const docLinkHtml = 'Like what you see? Visit the ' +\n",
              "          '<a target=\"_blank\" href=https://colab.research.google.com/notebooks/data_table.ipynb>data table notebook</a>'\n",
              "          + ' to learn more about interactive tables.';\n",
              "        element.innerHTML = '';\n",
              "        dataTable['output_type'] = 'display_data';\n",
              "        await google.colab.output.renderOutput(dataTable, element);\n",
              "        const docLink = document.createElement('div');\n",
              "        docLink.innerHTML = docLinkHtml;\n",
              "        element.appendChild(docLink);\n",
              "      }\n",
              "    </script>\n",
              "  </div>\n",
              "\n",
              "\n",
              "    <div id=\"df-290bb909-d203-4054-ae04-7a354aa33b51\">\n",
              "      <button class=\"colab-df-quickchart\" onclick=\"quickchart('df-290bb909-d203-4054-ae04-7a354aa33b51')\"\n",
              "                title=\"Suggest charts\"\n",
              "                style=\"display:none;\">\n",
              "\n",
              "<svg xmlns=\"http://www.w3.org/2000/svg\" height=\"24px\"viewBox=\"0 0 24 24\"\n",
              "     width=\"24px\">\n",
              "    <g>\n",
              "        <path d=\"M19 3H5c-1.1 0-2 .9-2 2v14c0 1.1.9 2 2 2h14c1.1 0 2-.9 2-2V5c0-1.1-.9-2-2-2zM9 17H7v-7h2v7zm4 0h-2V7h2v10zm4 0h-2v-4h2v4z\"/>\n",
              "    </g>\n",
              "</svg>\n",
              "      </button>\n",
              "\n",
              "<style>\n",
              "  .colab-df-quickchart {\n",
              "      --bg-color: #E8F0FE;\n",
              "      --fill-color: #1967D2;\n",
              "      --hover-bg-color: #E2EBFA;\n",
              "      --hover-fill-color: #174EA6;\n",
              "      --disabled-fill-color: #AAA;\n",
              "      --disabled-bg-color: #DDD;\n",
              "  }\n",
              "\n",
              "  [theme=dark] .colab-df-quickchart {\n",
              "      --bg-color: #3B4455;\n",
              "      --fill-color: #D2E3FC;\n",
              "      --hover-bg-color: #434B5C;\n",
              "      --hover-fill-color: #FFFFFF;\n",
              "      --disabled-bg-color: #3B4455;\n",
              "      --disabled-fill-color: #666;\n",
              "  }\n",
              "\n",
              "  .colab-df-quickchart {\n",
              "    background-color: var(--bg-color);\n",
              "    border: none;\n",
              "    border-radius: 50%;\n",
              "    cursor: pointer;\n",
              "    display: none;\n",
              "    fill: var(--fill-color);\n",
              "    height: 32px;\n",
              "    padding: 0;\n",
              "    width: 32px;\n",
              "  }\n",
              "\n",
              "  .colab-df-quickchart:hover {\n",
              "    background-color: var(--hover-bg-color);\n",
              "    box-shadow: 0 1px 2px rgba(60, 64, 67, 0.3), 0 1px 3px 1px rgba(60, 64, 67, 0.15);\n",
              "    fill: var(--button-hover-fill-color);\n",
              "  }\n",
              "\n",
              "  .colab-df-quickchart-complete:disabled,\n",
              "  .colab-df-quickchart-complete:disabled:hover {\n",
              "    background-color: var(--disabled-bg-color);\n",
              "    fill: var(--disabled-fill-color);\n",
              "    box-shadow: none;\n",
              "  }\n",
              "\n",
              "  .colab-df-spinner {\n",
              "    border: 2px solid var(--fill-color);\n",
              "    border-color: transparent;\n",
              "    border-bottom-color: var(--fill-color);\n",
              "    animation:\n",
              "      spin 1s steps(1) infinite;\n",
              "  }\n",
              "\n",
              "  @keyframes spin {\n",
              "    0% {\n",
              "      border-color: transparent;\n",
              "      border-bottom-color: var(--fill-color);\n",
              "      border-left-color: var(--fill-color);\n",
              "    }\n",
              "    20% {\n",
              "      border-color: transparent;\n",
              "      border-left-color: var(--fill-color);\n",
              "      border-top-color: var(--fill-color);\n",
              "    }\n",
              "    30% {\n",
              "      border-color: transparent;\n",
              "      border-left-color: var(--fill-color);\n",
              "      border-top-color: var(--fill-color);\n",
              "      border-right-color: var(--fill-color);\n",
              "    }\n",
              "    40% {\n",
              "      border-color: transparent;\n",
              "      border-right-color: var(--fill-color);\n",
              "      border-top-color: var(--fill-color);\n",
              "    }\n",
              "    60% {\n",
              "      border-color: transparent;\n",
              "      border-right-color: var(--fill-color);\n",
              "    }\n",
              "    80% {\n",
              "      border-color: transparent;\n",
              "      border-right-color: var(--fill-color);\n",
              "      border-bottom-color: var(--fill-color);\n",
              "    }\n",
              "    90% {\n",
              "      border-color: transparent;\n",
              "      border-bottom-color: var(--fill-color);\n",
              "    }\n",
              "  }\n",
              "</style>\n",
              "\n",
              "      <script>\n",
              "        async function quickchart(key) {\n",
              "          const quickchartButtonEl =\n",
              "            document.querySelector('#' + key + ' button');\n",
              "          quickchartButtonEl.disabled = true;  // To prevent multiple clicks.\n",
              "          quickchartButtonEl.classList.add('colab-df-spinner');\n",
              "          try {\n",
              "            const charts = await google.colab.kernel.invokeFunction(\n",
              "                'suggestCharts', [key], {});\n",
              "          } catch (error) {\n",
              "            console.error('Error during call to suggestCharts:', error);\n",
              "          }\n",
              "          quickchartButtonEl.classList.remove('colab-df-spinner');\n",
              "          quickchartButtonEl.classList.add('colab-df-quickchart-complete');\n",
              "        }\n",
              "        (() => {\n",
              "          let quickchartButtonEl =\n",
              "            document.querySelector('#df-290bb909-d203-4054-ae04-7a354aa33b51 button');\n",
              "          quickchartButtonEl.style.display =\n",
              "            google.colab.kernel.accessAllowed ? 'block' : 'none';\n",
              "        })();\n",
              "      </script>\n",
              "    </div>\n",
              "\n",
              "    </div>\n",
              "  </div>\n"
            ],
            "application/vnd.google.colaboratory.intrinsic+json": {
              "type": "dataframe",
              "summary": "{\n  \"name\": \"df\",\n  \"rows\": 5,\n  \"fields\": [\n    {\n      \"column\": \"VendorID\",\n      \"properties\": {\n        \"dtype\": \"int32\",\n        \"num_unique_values\": 2,\n        \"samples\": [\n          1,\n          2\n        ],\n        \"semantic_type\": \"\",\n        \"description\": \"\"\n      }\n    },\n    {\n      \"column\": \"tpep_pickup_datetime\",\n      \"properties\": {\n        \"dtype\": \"date\",\n        \"min\": \"2025-01-02 11:36:35\",\n        \"max\": \"2025-01-30 16:10:43\",\n        \"num_unique_values\": 5,\n        \"samples\": [\n          \"2025-01-11 10:45:50\",\n          \"2025-01-02 11:36:35\"\n        ],\n        \"semantic_type\": \"\",\n        \"description\": \"\"\n      }\n    },\n    {\n      \"column\": \"tpep_dropoff_datetime\",\n      \"properties\": {\n        \"dtype\": \"date\",\n        \"min\": \"2025-01-02 11:58:30\",\n        \"max\": \"2025-01-30 16:17:39\",\n        \"num_unique_values\": 5,\n        \"samples\": [\n          \"2025-01-11 11:02:14\",\n          \"2025-01-02 11:58:30\"\n        ],\n        \"semantic_type\": \"\",\n        \"description\": \"\"\n      }\n    },\n    {\n      \"column\": \"passenger_count\",\n      \"properties\": {\n        \"dtype\": \"number\",\n        \"std\": 0.4472135954999579,\n        \"min\": 1.0,\n        \"max\": 2.0,\n        \"num_unique_values\": 2,\n        \"samples\": [\n          2.0,\n          1.0\n        ],\n        \"semantic_type\": \"\",\n        \"description\": \"\"\n      }\n    },\n    {\n      \"column\": \"trip_distance\",\n      \"properties\": {\n        \"dtype\": \"number\",\n        \"std\": 7.501718469790773,\n        \"min\": 0.84,\n        \"max\": 18.37,\n        \"num_unique_values\": 5,\n        \"samples\": [\n          3.32,\n          1.8\n        ],\n        \"semantic_type\": \"\",\n        \"description\": \"\"\n      }\n    },\n    {\n      \"column\": \"RatecodeID\",\n      \"properties\": {\n        \"dtype\": \"number\",\n        \"std\": 0.4472135954999579,\n        \"min\": 1.0,\n        \"max\": 2.0,\n        \"num_unique_values\": 2,\n        \"samples\": [\n          2.0,\n          1.0\n        ],\n        \"semantic_type\": \"\",\n        \"description\": \"\"\n      }\n    },\n    {\n      \"column\": \"store_and_fwd_flag\",\n      \"properties\": {\n        \"dtype\": \"category\",\n        \"num_unique_values\": 1,\n        \"samples\": [\n          \"N\"\n        ],\n        \"semantic_type\": \"\",\n        \"description\": \"\"\n      }\n    },\n    {\n      \"column\": \"PULocationID\",\n      \"properties\": {\n        \"dtype\": \"int32\",\n        \"num_unique_values\": 5,\n        \"samples\": [\n          141\n        ],\n        \"semantic_type\": \"\",\n        \"description\": \"\"\n      }\n    },\n    {\n      \"column\": \"DOLocationID\",\n      \"properties\": {\n        \"dtype\": \"int32\",\n        \"num_unique_values\": 5,\n        \"samples\": [\n          50\n        ],\n        \"semantic_type\": \"\",\n        \"description\": \"\"\n      }\n    },\n    {\n      \"column\": \"payment_type\",\n      \"properties\": {\n        \"dtype\": \"number\",\n        \"std\": 1,\n        \"min\": 1,\n        \"max\": 4,\n        \"num_unique_values\": 3,\n        \"samples\": [\n          2\n        ],\n        \"semantic_type\": \"\",\n        \"description\": \"\"\n      }\n    },\n    {\n      \"column\": \"fare_amount\",\n      \"properties\": {\n        \"dtype\": \"number\",\n        \"std\": 32.576878303483895,\n        \"min\": -19.1,\n        \"max\": 70.0,\n        \"num_unique_values\": 5,\n        \"samples\": [\n          -19.1\n        ],\n        \"semantic_type\": \"\",\n        \"description\": \"\"\n      }\n    },\n    {\n      \"column\": \"extra\",\n      \"properties\": {\n        \"dtype\": \"number\",\n        \"std\": 1.5370426148939398,\n        \"min\": 0.0,\n        \"max\": 3.25,\n        \"num_unique_values\": 3,\n        \"samples\": [\n          2.5\n        ],\n        \"semantic_type\": \"\",\n        \"description\": \"\"\n      }\n    },\n    {\n      \"column\": \"mta_tax\",\n      \"properties\": {\n        \"dtype\": \"number\",\n        \"std\": 0.44721359549995804,\n        \"min\": -0.5,\n        \"max\": 0.5,\n        \"num_unique_values\": 2,\n        \"samples\": [\n          -0.5\n        ],\n        \"semantic_type\": \"\",\n        \"description\": \"\"\n      }\n    },\n    {\n      \"column\": \"tip_amount\",\n      \"properties\": {\n        \"dtype\": \"number\",\n        \"std\": 2.1125813593800356,\n        \"min\": 0.0,\n        \"max\": 4.5,\n        \"num_unique_values\": 3,\n        \"samples\": [\n          0.0\n        ],\n        \"semantic_type\": \"\",\n        \"description\": \"\"\n      }\n    },\n    {\n      \"column\": \"tolls_amount\",\n      \"properties\": {\n        \"dtype\": \"number\",\n        \"std\": 3.103662352769708,\n        \"min\": 0.0,\n        \"max\": 6.94,\n        \"num_unique_values\": 2,\n        \"samples\": [\n          6.94\n        ],\n        \"semantic_type\": \"\",\n        \"description\": \"\"\n      }\n    },\n    {\n      \"column\": \"improvement_surcharge\",\n      \"properties\": {\n        \"dtype\": \"number\",\n        \"std\": 0.8944271909999161,\n        \"min\": -1.0,\n        \"max\": 1.0,\n        \"num_unique_values\": 2,\n        \"samples\": [\n          -1.0\n        ],\n        \"semantic_type\": \"\",\n        \"description\": \"\"\n      }\n    },\n    {\n      \"column\": \"total_amount\",\n      \"properties\": {\n        \"dtype\": \"number\",\n        \"std\": 38.27585230925629,\n        \"min\": -23.85,\n        \"max\": 82.69,\n        \"num_unique_values\": 5,\n        \"samples\": [\n          -23.85\n        ],\n        \"semantic_type\": \"\",\n        \"description\": \"\"\n      }\n    },\n    {\n      \"column\": \"congestion_surcharge\",\n      \"properties\": {\n        \"dtype\": \"number\",\n        \"std\": 2.23606797749979,\n        \"min\": -2.5,\n        \"max\": 2.5,\n        \"num_unique_values\": 2,\n        \"samples\": [\n          -2.5\n        ],\n        \"semantic_type\": \"\",\n        \"description\": \"\"\n      }\n    },\n    {\n      \"column\": \"Airport_fee\",\n      \"properties\": {\n        \"dtype\": \"number\",\n        \"std\": 0.7826237921249264,\n        \"min\": 0.0,\n        \"max\": 1.75,\n        \"num_unique_values\": 2,\n        \"samples\": [\n          1.75\n        ],\n        \"semantic_type\": \"\",\n        \"description\": \"\"\n      }\n    },\n    {\n      \"column\": \"cbd_congestion_fee\",\n      \"properties\": {\n        \"dtype\": \"number\",\n        \"std\": 0.41079191812887456,\n        \"min\": 0.0,\n        \"max\": 0.75,\n        \"num_unique_values\": 2,\n        \"samples\": [\n          0.0\n        ],\n        \"semantic_type\": \"\",\n        \"description\": \"\"\n      }\n    }\n  ]\n}"
            }
          },
          "metadata": {},
          "execution_count": 42
        }
      ]
    },
    {
      "cell_type": "markdown",
      "source": [
        "## Data Cleaning"
      ],
      "metadata": {
        "id": "edG11FnOZIXz"
      }
    },
    {
      "cell_type": "code",
      "source": [
        "# Check data types and for null values\n",
        "print(\"Data Info:\")\n",
        "df.info()"
      ],
      "metadata": {
        "colab": {
          "base_uri": "https://localhost:8080/"
        },
        "id": "-dLsgxlJ7IfS",
        "outputId": "40175590-4693-45f3-a386-e3230b88bcb9"
      },
      "execution_count": null,
      "outputs": [
        {
          "output_type": "stream",
          "name": "stdout",
          "text": [
            "Data Info:\n",
            "<class 'pandas.core.frame.DataFrame'>\n",
            "RangeIndex: 3475226 entries, 0 to 3475225\n",
            "Data columns (total 20 columns):\n",
            " #   Column                 Dtype         \n",
            "---  ------                 -----         \n",
            " 0   VendorID               int32         \n",
            " 1   tpep_pickup_datetime   datetime64[us]\n",
            " 2   tpep_dropoff_datetime  datetime64[us]\n",
            " 3   passenger_count        float64       \n",
            " 4   trip_distance          float64       \n",
            " 5   RatecodeID             float64       \n",
            " 6   store_and_fwd_flag     object        \n",
            " 7   PULocationID           int32         \n",
            " 8   DOLocationID           int32         \n",
            " 9   payment_type           int64         \n",
            " 10  fare_amount            float64       \n",
            " 11  extra                  float64       \n",
            " 12  mta_tax                float64       \n",
            " 13  tip_amount             float64       \n",
            " 14  tolls_amount           float64       \n",
            " 15  improvement_surcharge  float64       \n",
            " 16  total_amount           float64       \n",
            " 17  congestion_surcharge   float64       \n",
            " 18  Airport_fee            float64       \n",
            " 19  cbd_congestion_fee     float64       \n",
            "dtypes: datetime64[us](2), float64(13), int32(3), int64(1), object(1)\n",
            "memory usage: 490.5+ MB\n"
          ]
        }
      ]
    },
    {
      "cell_type": "code",
      "source": [
        "df.isnull().sum()"
      ],
      "metadata": {
        "colab": {
          "base_uri": "https://localhost:8080/",
          "height": 711
        },
        "id": "jWlQccnx8Vyx",
        "outputId": "e2589661-691d-4a30-e0ec-c21e8fb91076"
      },
      "execution_count": null,
      "outputs": [
        {
          "output_type": "execute_result",
          "data": {
            "text/plain": [
              "VendorID                      0\n",
              "tpep_pickup_datetime          0\n",
              "tpep_dropoff_datetime         0\n",
              "passenger_count          540149\n",
              "trip_distance                 0\n",
              "RatecodeID               540149\n",
              "store_and_fwd_flag       540149\n",
              "PULocationID                  0\n",
              "DOLocationID                  0\n",
              "payment_type                  0\n",
              "fare_amount                   0\n",
              "extra                         0\n",
              "mta_tax                       0\n",
              "tip_amount                    0\n",
              "tolls_amount                  0\n",
              "improvement_surcharge         0\n",
              "total_amount                  0\n",
              "congestion_surcharge     540149\n",
              "Airport_fee              540149\n",
              "cbd_congestion_fee            0\n",
              "dtype: int64"
            ],
            "text/html": [
              "<div>\n",
              "<style scoped>\n",
              "    .dataframe tbody tr th:only-of-type {\n",
              "        vertical-align: middle;\n",
              "    }\n",
              "\n",
              "    .dataframe tbody tr th {\n",
              "        vertical-align: top;\n",
              "    }\n",
              "\n",
              "    .dataframe thead th {\n",
              "        text-align: right;\n",
              "    }\n",
              "</style>\n",
              "<table border=\"1\" class=\"dataframe\">\n",
              "  <thead>\n",
              "    <tr style=\"text-align: right;\">\n",
              "      <th></th>\n",
              "      <th>0</th>\n",
              "    </tr>\n",
              "  </thead>\n",
              "  <tbody>\n",
              "    <tr>\n",
              "      <th>VendorID</th>\n",
              "      <td>0</td>\n",
              "    </tr>\n",
              "    <tr>\n",
              "      <th>tpep_pickup_datetime</th>\n",
              "      <td>0</td>\n",
              "    </tr>\n",
              "    <tr>\n",
              "      <th>tpep_dropoff_datetime</th>\n",
              "      <td>0</td>\n",
              "    </tr>\n",
              "    <tr>\n",
              "      <th>passenger_count</th>\n",
              "      <td>540149</td>\n",
              "    </tr>\n",
              "    <tr>\n",
              "      <th>trip_distance</th>\n",
              "      <td>0</td>\n",
              "    </tr>\n",
              "    <tr>\n",
              "      <th>RatecodeID</th>\n",
              "      <td>540149</td>\n",
              "    </tr>\n",
              "    <tr>\n",
              "      <th>store_and_fwd_flag</th>\n",
              "      <td>540149</td>\n",
              "    </tr>\n",
              "    <tr>\n",
              "      <th>PULocationID</th>\n",
              "      <td>0</td>\n",
              "    </tr>\n",
              "    <tr>\n",
              "      <th>DOLocationID</th>\n",
              "      <td>0</td>\n",
              "    </tr>\n",
              "    <tr>\n",
              "      <th>payment_type</th>\n",
              "      <td>0</td>\n",
              "    </tr>\n",
              "    <tr>\n",
              "      <th>fare_amount</th>\n",
              "      <td>0</td>\n",
              "    </tr>\n",
              "    <tr>\n",
              "      <th>extra</th>\n",
              "      <td>0</td>\n",
              "    </tr>\n",
              "    <tr>\n",
              "      <th>mta_tax</th>\n",
              "      <td>0</td>\n",
              "    </tr>\n",
              "    <tr>\n",
              "      <th>tip_amount</th>\n",
              "      <td>0</td>\n",
              "    </tr>\n",
              "    <tr>\n",
              "      <th>tolls_amount</th>\n",
              "      <td>0</td>\n",
              "    </tr>\n",
              "    <tr>\n",
              "      <th>improvement_surcharge</th>\n",
              "      <td>0</td>\n",
              "    </tr>\n",
              "    <tr>\n",
              "      <th>total_amount</th>\n",
              "      <td>0</td>\n",
              "    </tr>\n",
              "    <tr>\n",
              "      <th>congestion_surcharge</th>\n",
              "      <td>540149</td>\n",
              "    </tr>\n",
              "    <tr>\n",
              "      <th>Airport_fee</th>\n",
              "      <td>540149</td>\n",
              "    </tr>\n",
              "    <tr>\n",
              "      <th>cbd_congestion_fee</th>\n",
              "      <td>0</td>\n",
              "    </tr>\n",
              "  </tbody>\n",
              "</table>\n",
              "</div><br><label><b>dtype:</b> int64</label>"
            ]
          },
          "metadata": {},
          "execution_count": 44
        }
      ]
    },
    {
      "cell_type": "markdown",
      "source": [
        "Columns - [Airport_fee, congestion_surcharge, store_and_fwd_flag, RatecodeID, passenger_count] have null values.  \n",
        "\n",
        "Each of these column have exactly 540149 null values.\n",
        "\n",
        "\n",
        "\n",
        "\n",
        "\n"
      ],
      "metadata": {
        "id": "jBeNVUymBu1w"
      }
    },
    {
      "cell_type": "code",
      "source": [
        "df.shape"
      ],
      "metadata": {
        "colab": {
          "base_uri": "https://localhost:8080/"
        },
        "id": "ayltpJPG9Qvk",
        "outputId": "151a3e2b-ec6d-4ef2-9458-2baacbfe71ba"
      },
      "execution_count": null,
      "outputs": [
        {
          "output_type": "execute_result",
          "data": {
            "text/plain": [
              "(3475226, 20)"
            ]
          },
          "metadata": {},
          "execution_count": 45
        }
      ]
    },
    {
      "cell_type": "markdown",
      "source": [
        "Total rows - 3475226\n",
        "\n",
        "rows with null values - 540149\n",
        "\n",
        "it is approx 15% of data. so i am going to fill with logical assumptions"
      ],
      "metadata": {
        "id": "1C8vPkbNGNLl"
      }
    },
    {
      "cell_type": "markdown",
      "source": [
        "columns [Airport_fee] and [congestion_surcharge] having null values can indicate that there were no such charges applied for that trip, we can fill these nulls with 0."
      ],
      "metadata": {
        "id": "3NJlWPPjGwJ_"
      }
    },
    {
      "cell_type": "code",
      "source": [
        "df['congestion_surcharge'].fillna(0, inplace=True)\n",
        "df['Airport_fee'].fillna(0, inplace=True)"
      ],
      "metadata": {
        "colab": {
          "base_uri": "https://localhost:8080/"
        },
        "collapsed": true,
        "id": "ltl8QWMmExdZ",
        "outputId": "a8b491d0-18d8-4580-b7c3-407c709b4695"
      },
      "execution_count": null,
      "outputs": [
        {
          "output_type": "stream",
          "name": "stderr",
          "text": [
            "/tmp/ipython-input-3141660353.py:1: FutureWarning: A value is trying to be set on a copy of a DataFrame or Series through chained assignment using an inplace method.\n",
            "The behavior will change in pandas 3.0. This inplace method will never work because the intermediate object on which we are setting values always behaves as a copy.\n",
            "\n",
            "For example, when doing 'df[col].method(value, inplace=True)', try using 'df.method({col: value}, inplace=True)' or df[col] = df[col].method(value) instead, to perform the operation inplace on the original object.\n",
            "\n",
            "\n",
            "  df['congestion_surcharge'].fillna(0, inplace=True)\n",
            "/tmp/ipython-input-3141660353.py:2: FutureWarning: A value is trying to be set on a copy of a DataFrame or Series through chained assignment using an inplace method.\n",
            "The behavior will change in pandas 3.0. This inplace method will never work because the intermediate object on which we are setting values always behaves as a copy.\n",
            "\n",
            "For example, when doing 'df[col].method(value, inplace=True)', try using 'df.method({col: value}, inplace=True)' or df[col] = df[col].method(value) instead, to perform the operation inplace on the original object.\n",
            "\n",
            "\n",
            "  df['Airport_fee'].fillna(0, inplace=True)\n"
          ]
        }
      ]
    },
    {
      "cell_type": "markdown",
      "source": [
        "we will replace [passenger_count] column with median of its column value"
      ],
      "metadata": {
        "id": "EiNzK5CVJH8R"
      }
    },
    {
      "cell_type": "code",
      "source": [
        "median_passenger_count = df['passenger_count'].median()\n",
        "df['passenger_count'].fillna(median_passenger_count, inplace=True)"
      ],
      "metadata": {
        "colab": {
          "base_uri": "https://localhost:8080/"
        },
        "collapsed": true,
        "id": "aZjbHcgCH2kQ",
        "outputId": "a2828fa6-ddc5-4c3a-df00-1e0ab4d17137"
      },
      "execution_count": null,
      "outputs": [
        {
          "output_type": "stream",
          "name": "stderr",
          "text": [
            "/tmp/ipython-input-22414744.py:2: FutureWarning: A value is trying to be set on a copy of a DataFrame or Series through chained assignment using an inplace method.\n",
            "The behavior will change in pandas 3.0. This inplace method will never work because the intermediate object on which we are setting values always behaves as a copy.\n",
            "\n",
            "For example, when doing 'df[col].method(value, inplace=True)', try using 'df.method({col: value}, inplace=True)' or df[col] = df[col].method(value) instead, to perform the operation inplace on the original object.\n",
            "\n",
            "\n",
            "  df['passenger_count'].fillna(median_passenger_count, inplace=True)\n"
          ]
        }
      ]
    },
    {
      "cell_type": "markdown",
      "source": [
        "RatecodeID (float64): A numeric code for the fare type applied to the trip. its RatecodeID -> 1 is used for standard rate we will replace null with this value."
      ],
      "metadata": {
        "id": "ZKXVRqVGJ2Ef"
      }
    },
    {
      "cell_type": "code",
      "source": [
        "df['RatecodeID'].fillna(1, inplace=True)"
      ],
      "metadata": {
        "colab": {
          "base_uri": "https://localhost:8080/"
        },
        "collapsed": true,
        "id": "zEC3v9jWKKZt",
        "outputId": "84f94163-d16a-4b69-ce31-882ec85b6d1b"
      },
      "execution_count": null,
      "outputs": [
        {
          "output_type": "stream",
          "name": "stderr",
          "text": [
            "/tmp/ipython-input-427974952.py:1: FutureWarning: A value is trying to be set on a copy of a DataFrame or Series through chained assignment using an inplace method.\n",
            "The behavior will change in pandas 3.0. This inplace method will never work because the intermediate object on which we are setting values always behaves as a copy.\n",
            "\n",
            "For example, when doing 'df[col].method(value, inplace=True)', try using 'df.method({col: value}, inplace=True)' or df[col] = df[col].method(value) instead, to perform the operation inplace on the original object.\n",
            "\n",
            "\n",
            "  df['RatecodeID'].fillna(1, inplace=True)\n"
          ]
        }
      ]
    },
    {
      "cell_type": "markdown",
      "source": [
        "The [store_and_fwd_flag] indicates whether the trip data was sent live or stored in the vehicle's memory first (e.g., due to poor connectivity).\n",
        "\n",
        "'Y': Yes, the data was stored and then forwarded.\n",
        "\n",
        "'N': No, the data was sent in real-time.\n",
        "\n",
        "A null value here likely means the information wasn't recorded, but in most cases, it's safe to assume the trip was sent in real-time like a standard trip."
      ],
      "metadata": {
        "id": "9nYS2fZzKjrK"
      }
    },
    {
      "cell_type": "code",
      "source": [
        "df['store_and_fwd_flag'].fillna('N', inplace=True)"
      ],
      "metadata": {
        "colab": {
          "base_uri": "https://localhost:8080/"
        },
        "collapsed": true,
        "id": "KqYKSNPzK4RX",
        "outputId": "ea50ea89-8095-4086-ac19-7264c0ab9e60"
      },
      "execution_count": null,
      "outputs": [
        {
          "output_type": "stream",
          "name": "stderr",
          "text": [
            "/tmp/ipython-input-3425283548.py:1: FutureWarning: A value is trying to be set on a copy of a DataFrame or Series through chained assignment using an inplace method.\n",
            "The behavior will change in pandas 3.0. This inplace method will never work because the intermediate object on which we are setting values always behaves as a copy.\n",
            "\n",
            "For example, when doing 'df[col].method(value, inplace=True)', try using 'df.method({col: value}, inplace=True)' or df[col] = df[col].method(value) instead, to perform the operation inplace on the original object.\n",
            "\n",
            "\n",
            "  df['store_and_fwd_flag'].fillna('N', inplace=True)\n"
          ]
        }
      ]
    },
    {
      "cell_type": "markdown",
      "source": [
        "### Missing and null values are handled now"
      ],
      "metadata": {
        "id": "5F0Y-0ozLcDn"
      }
    },
    {
      "cell_type": "code",
      "source": [
        "df.isnull().sum()"
      ],
      "metadata": {
        "colab": {
          "base_uri": "https://localhost:8080/",
          "height": 711
        },
        "id": "Yt2JwALUIDDE",
        "outputId": "202da351-77ed-4d5a-ad49-e81cd43b18da"
      },
      "execution_count": null,
      "outputs": [
        {
          "output_type": "execute_result",
          "data": {
            "text/plain": [
              "VendorID                 0\n",
              "tpep_pickup_datetime     0\n",
              "tpep_dropoff_datetime    0\n",
              "passenger_count          0\n",
              "trip_distance            0\n",
              "RatecodeID               0\n",
              "store_and_fwd_flag       0\n",
              "PULocationID             0\n",
              "DOLocationID             0\n",
              "payment_type             0\n",
              "fare_amount              0\n",
              "extra                    0\n",
              "mta_tax                  0\n",
              "tip_amount               0\n",
              "tolls_amount             0\n",
              "improvement_surcharge    0\n",
              "total_amount             0\n",
              "congestion_surcharge     0\n",
              "Airport_fee              0\n",
              "cbd_congestion_fee       0\n",
              "dtype: int64"
            ],
            "text/html": [
              "<div>\n",
              "<style scoped>\n",
              "    .dataframe tbody tr th:only-of-type {\n",
              "        vertical-align: middle;\n",
              "    }\n",
              "\n",
              "    .dataframe tbody tr th {\n",
              "        vertical-align: top;\n",
              "    }\n",
              "\n",
              "    .dataframe thead th {\n",
              "        text-align: right;\n",
              "    }\n",
              "</style>\n",
              "<table border=\"1\" class=\"dataframe\">\n",
              "  <thead>\n",
              "    <tr style=\"text-align: right;\">\n",
              "      <th></th>\n",
              "      <th>0</th>\n",
              "    </tr>\n",
              "  </thead>\n",
              "  <tbody>\n",
              "    <tr>\n",
              "      <th>VendorID</th>\n",
              "      <td>0</td>\n",
              "    </tr>\n",
              "    <tr>\n",
              "      <th>tpep_pickup_datetime</th>\n",
              "      <td>0</td>\n",
              "    </tr>\n",
              "    <tr>\n",
              "      <th>tpep_dropoff_datetime</th>\n",
              "      <td>0</td>\n",
              "    </tr>\n",
              "    <tr>\n",
              "      <th>passenger_count</th>\n",
              "      <td>0</td>\n",
              "    </tr>\n",
              "    <tr>\n",
              "      <th>trip_distance</th>\n",
              "      <td>0</td>\n",
              "    </tr>\n",
              "    <tr>\n",
              "      <th>RatecodeID</th>\n",
              "      <td>0</td>\n",
              "    </tr>\n",
              "    <tr>\n",
              "      <th>store_and_fwd_flag</th>\n",
              "      <td>0</td>\n",
              "    </tr>\n",
              "    <tr>\n",
              "      <th>PULocationID</th>\n",
              "      <td>0</td>\n",
              "    </tr>\n",
              "    <tr>\n",
              "      <th>DOLocationID</th>\n",
              "      <td>0</td>\n",
              "    </tr>\n",
              "    <tr>\n",
              "      <th>payment_type</th>\n",
              "      <td>0</td>\n",
              "    </tr>\n",
              "    <tr>\n",
              "      <th>fare_amount</th>\n",
              "      <td>0</td>\n",
              "    </tr>\n",
              "    <tr>\n",
              "      <th>extra</th>\n",
              "      <td>0</td>\n",
              "    </tr>\n",
              "    <tr>\n",
              "      <th>mta_tax</th>\n",
              "      <td>0</td>\n",
              "    </tr>\n",
              "    <tr>\n",
              "      <th>tip_amount</th>\n",
              "      <td>0</td>\n",
              "    </tr>\n",
              "    <tr>\n",
              "      <th>tolls_amount</th>\n",
              "      <td>0</td>\n",
              "    </tr>\n",
              "    <tr>\n",
              "      <th>improvement_surcharge</th>\n",
              "      <td>0</td>\n",
              "    </tr>\n",
              "    <tr>\n",
              "      <th>total_amount</th>\n",
              "      <td>0</td>\n",
              "    </tr>\n",
              "    <tr>\n",
              "      <th>congestion_surcharge</th>\n",
              "      <td>0</td>\n",
              "    </tr>\n",
              "    <tr>\n",
              "      <th>Airport_fee</th>\n",
              "      <td>0</td>\n",
              "    </tr>\n",
              "    <tr>\n",
              "      <th>cbd_congestion_fee</th>\n",
              "      <td>0</td>\n",
              "    </tr>\n",
              "  </tbody>\n",
              "</table>\n",
              "</div><br><label><b>dtype:</b> int64</label>"
            ]
          },
          "metadata": {},
          "execution_count": 54
        }
      ]
    },
    {
      "cell_type": "code",
      "source": [
        "print(df.head())"
      ],
      "metadata": {
        "colab": {
          "base_uri": "https://localhost:8080/"
        },
        "id": "hyX2OEEwJkVT",
        "outputId": "782f3f8d-11f9-4952-efc4-7d62e0bdb6cc"
      },
      "execution_count": null,
      "outputs": [
        {
          "output_type": "stream",
          "name": "stdout",
          "text": [
            "   VendorID tpep_pickup_datetime tpep_dropoff_datetime  passenger_count  \\\n",
            "0         1  2025-01-01 00:18:38   2025-01-01 00:26:59              1.0   \n",
            "1         1  2025-01-01 00:32:40   2025-01-01 00:35:13              1.0   \n",
            "2         1  2025-01-01 00:44:04   2025-01-01 00:46:01              1.0   \n",
            "3         2  2025-01-01 00:14:27   2025-01-01 00:20:01              3.0   \n",
            "4         2  2025-01-01 00:21:34   2025-01-01 00:25:06              3.0   \n",
            "\n",
            "   trip_distance  RatecodeID store_and_fwd_flag  PULocationID  DOLocationID  \\\n",
            "0           1.60         1.0                  N           229           237   \n",
            "1           0.50         1.0                  N           236           237   \n",
            "2           0.60         1.0                  N           141           141   \n",
            "3           0.52         1.0                  N           244           244   \n",
            "4           0.66         1.0                  N           244           116   \n",
            "\n",
            "   payment_type  fare_amount  extra  mta_tax  tip_amount  tolls_amount  \\\n",
            "0             1         10.0    3.5      0.5        3.00           0.0   \n",
            "1             1          5.1    3.5      0.5        2.02           0.0   \n",
            "2             1          5.1    3.5      0.5        2.00           0.0   \n",
            "3             2          7.2    1.0      0.5        0.00           0.0   \n",
            "4             2          5.8    1.0      0.5        0.00           0.0   \n",
            "\n",
            "   improvement_surcharge  total_amount  congestion_surcharge  Airport_fee  \\\n",
            "0                    1.0         18.00                   2.5          0.0   \n",
            "1                    1.0         12.12                   2.5          0.0   \n",
            "2                    1.0         12.10                   2.5          0.0   \n",
            "3                    1.0          9.70                   0.0          0.0   \n",
            "4                    1.0          8.30                   0.0          0.0   \n",
            "\n",
            "   cbd_congestion_fee  \n",
            "0                 0.0  \n",
            "1                 0.0  \n",
            "2                 0.0  \n",
            "3                 0.0  \n",
            "4                 0.0  \n"
          ]
        }
      ]
    },
    {
      "cell_type": "markdown",
      "source": [
        "### Correcting Data Types\n",
        "\n",
        "passenger_count and RatecodeID: These are float64 but should be integers.\n",
        "\n",
        "payment_type, VendorID, PULocationID, DOLocationID: These are numbers but represent categories."
      ],
      "metadata": {
        "id": "Oe-9TmJaMnBt"
      }
    },
    {
      "cell_type": "code",
      "source": [
        "# Converting float columns to integers\n",
        "df['passenger_count'] = df['passenger_count'].astype('int64')\n",
        "df['RatecodeID'] = df['RatecodeID'].astype('int64')\n",
        "\n",
        "# Converting relevant integer columns to categorical type\n",
        "df['VendorID'] = df['VendorID'].astype('category')\n",
        "df['payment_type'] = df['payment_type'].astype('category')"
      ],
      "metadata": {
        "id": "1G2fZfSlMDk2"
      },
      "execution_count": null,
      "outputs": []
    },
    {
      "cell_type": "markdown",
      "source": [
        "filtering out rows with illogical values"
      ],
      "metadata": {
        "id": "19jY5khpNGZ_"
      }
    },
    {
      "cell_type": "code",
      "source": [
        "# Check for trips with zero or negative distance\n",
        "print(f\"Trips with distance <= 0: {(df['trip_distance'] <= 0).sum()}\")\n",
        "\n",
        "# Check for trips with negative fare amount\n",
        "print(f\"Trips with fare_amount < 0: {(df['fare_amount'] < 0).sum()}\")\n",
        "\n",
        "# Filtering out these illogical trips\n",
        "df = df[(df['trip_distance'] > 0) & (df['fare_amount'] >= 0)]"
      ],
      "metadata": {
        "colab": {
          "base_uri": "https://localhost:8080/"
        },
        "id": "z1mxeRheM-sJ",
        "outputId": "cbc43861-68f5-4bde-f2e0-4b1ef9ff5fd6"
      },
      "execution_count": null,
      "outputs": [
        {
          "output_type": "stream",
          "name": "stdout",
          "text": [
            "Trips with distance <= 0: 90893\n",
            "Trips with fare_amount < 0: 144118\n"
          ]
        }
      ]
    },
    {
      "cell_type": "code",
      "source": [
        "# Check passenger counts\n",
        "print(df['passenger_count'].value_counts())\n",
        "\n",
        "# Filtering for a reasonable range of passengers (e.g 1 to 6)\n",
        "df = df[(df['passenger_count']>0) & (df['passenger_count'])<=6]\n"
      ],
      "metadata": {
        "colab": {
          "base_uri": "https://localhost:8080/"
        },
        "id": "B1X6OzcXNbOc",
        "outputId": "a90f2b9e-85d1-4425-9d73-59b2b94b9844"
      },
      "execution_count": null,
      "outputs": [
        {
          "output_type": "stream",
          "name": "stdout",
          "text": [
            "passenger_count\n",
            "1    2664820\n",
            "2     393994\n",
            "3      87839\n",
            "4      54800\n",
            "0      23655\n",
            "5      17627\n",
            "6      11921\n",
            "8          6\n",
            "9          3\n",
            "7          1\n",
            "Name: count, dtype: int64\n"
          ]
        }
      ]
    },
    {
      "cell_type": "markdown",
      "source": [
        "The dropoff time must be after the pickup time"
      ],
      "metadata": {
        "id": "bmpF6XGuPAIW"
      }
    },
    {
      "cell_type": "code",
      "source": [
        "# Removing trips where dropoff is before or at the same time as pickup\n",
        "df = df[df['tpep_dropoff_datetime'] > df['tpep_pickup_datetime']]"
      ],
      "metadata": {
        "id": "5j_pNA9XN4S7"
      },
      "execution_count": null,
      "outputs": []
    },
    {
      "cell_type": "markdown",
      "source": [
        "### Feature Engineering & Outlier Analysis"
      ],
      "metadata": {
        "id": "UACSsi6JPJ58"
      }
    },
    {
      "cell_type": "code",
      "source": [
        "# Calculate trip duration in minutes\n",
        "df['trip_duration'] = (df['tpep_dropoff_datetime'] - df['tpep_pickup_datetime']).dt.total_seconds() / 60\n",
        "\n",
        "print(df['trip_duration'].describe())"
      ],
      "metadata": {
        "colab": {
          "base_uri": "https://localhost:8080/"
        },
        "id": "Mhd1mP5JPFgG",
        "outputId": "82a5d3e0-0d70-4e0d-d121-74defd66aeb5"
      },
      "execution_count": null,
      "outputs": [
        {
          "output_type": "stream",
          "name": "stdout",
          "text": [
            "count    3.253310e+06\n",
            "mean     1.513639e+01\n",
            "std      2.728979e+01\n",
            "min      1.666667e-02\n",
            "25%      7.333333e+00\n",
            "50%      1.170000e+01\n",
            "75%      1.833333e+01\n",
            "max      5.626317e+03\n",
            "Name: trip_duration, dtype: float64\n"
          ]
        }
      ]
    },
    {
      "cell_type": "markdown",
      "source": [
        "min duration is 1.66e-02 minutes, which is about 1 second.\n",
        "\n",
        "max duration is 5.62e+03 minutes, which is over 93 hours\n",
        "\n",
        "we should remove shuch outliers"
      ],
      "metadata": {
        "id": "LVAif3nfQnEl"
      }
    },
    {
      "cell_type": "markdown",
      "source": [
        "Defining Logical Boundaries\n",
        "\n",
        "Minimum Duration: 1 minute\n",
        "\n",
        "Maximum Duration: 24 hours (1440 minutes)"
      ],
      "metadata": {
        "id": "4tGm7ElxRCZB"
      }
    },
    {
      "cell_type": "code",
      "source": [
        "# number of rows before filtering\n",
        "print(f\"Original number of rows: {len(df)}\")\n",
        "\n",
        "# Filtering DataFrame to keep only trips with a logical duration\n",
        "df = df[(df['trip_duration'] >= 1) & (df['trip_duration'] <= 1440)]\n",
        "\n",
        "# number of rows after filtering\n",
        "print(f\"Number of rows after cleaning: {len(df)}\")"
      ],
      "metadata": {
        "colab": {
          "base_uri": "https://localhost:8080/"
        },
        "id": "AZWFhT2WPbpW",
        "outputId": "b12399c6-ec2f-4d23-a8a7-14042d777958"
      },
      "execution_count": null,
      "outputs": [
        {
          "output_type": "stream",
          "name": "stdout",
          "text": [
            "Original number of rows: 3253310\n",
            "Number of rows after cleaning: 3243767\n"
          ]
        }
      ]
    },
    {
      "cell_type": "code",
      "source": [
        "print(df['trip_duration'].describe())"
      ],
      "metadata": {
        "colab": {
          "base_uri": "https://localhost:8080/"
        },
        "id": "zRZepPsYRaAR",
        "outputId": "bcf38bbb-80fc-4f96-abeb-0a9df452cbb9"
      },
      "execution_count": null,
      "outputs": [
        {
          "output_type": "stream",
          "name": "stdout",
          "text": [
            "count    3.243767e+06\n",
            "mean     1.516868e+01\n",
            "std      2.664950e+01\n",
            "min      1.000000e+00\n",
            "25%      7.366667e+00\n",
            "50%      1.171667e+01\n",
            "75%      1.836667e+01\n",
            "max      1.439867e+03\n",
            "Name: trip_duration, dtype: float64\n"
          ]
        }
      ]
    },
    {
      "cell_type": "markdown",
      "source": [
        "### Feature Engineering"
      ],
      "metadata": {
        "id": "kQ9JJCrVV4yK"
      }
    },
    {
      "cell_type": "code",
      "source": [
        "# Extracting time-based features from the pickup datetime\n",
        "df['pickup_hour'] = df['tpep_pickup_datetime'].dt.hour\n",
        "df['pickup_day_of_week'] = df['tpep_pickup_datetime'].dt.day_name()\n",
        "\n",
        "# Calculate speed in miles per hour (MPH)\n",
        "df['speed_mph'] = df['trip_distance'] / (df['trip_duration'] / 60)\n",
        "\n",
        "# Calculate tip percentage for credit card payments\n",
        "# Filter for credit card payments (payment_type == 1) because for cash payment (payment_type ==2) tip is not recorded\n",
        "credit_card_trips = df['payment_type'] == 1\n",
        "df.loc[credit_card_trips, 'tip_percentage'] = (df['tip_amount'] / df['fare_amount']) * 100\n",
        "df['tip_percentage'].fillna(0, inplace=True) # Fill non-credit card trips with 0"
      ],
      "metadata": {
        "colab": {
          "base_uri": "https://localhost:8080/"
        },
        "collapsed": true,
        "id": "-HkQ6tMNV7ss",
        "outputId": "b3b48715-392e-4e87-f355-0f87d208e22c"
      },
      "execution_count": null,
      "outputs": [
        {
          "output_type": "stream",
          "name": "stderr",
          "text": [
            "/tmp/ipython-input-2501740597.py:12: FutureWarning: A value is trying to be set on a copy of a DataFrame or Series through chained assignment using an inplace method.\n",
            "The behavior will change in pandas 3.0. This inplace method will never work because the intermediate object on which we are setting values always behaves as a copy.\n",
            "\n",
            "For example, when doing 'df[col].method(value, inplace=True)', try using 'df.method({col: value}, inplace=True)' or df[col] = df[col].method(value) instead, to perform the operation inplace on the original object.\n",
            "\n",
            "\n",
            "  df['tip_percentage'].fillna(0, inplace=True) # Fill non-credit card trips with 0\n"
          ]
        }
      ]
    },
    {
      "cell_type": "markdown",
      "source": [
        "### Final Cleaned, Transformed and Validated data"
      ],
      "metadata": {
        "id": "59n5dSvFVc5N"
      }
    },
    {
      "cell_type": "code",
      "source": [
        "df.sample(5)"
      ],
      "metadata": {
        "colab": {
          "base_uri": "https://localhost:8080/",
          "height": 255
        },
        "id": "bzbbJgEzVGKR",
        "outputId": "976235dc-3537-471f-bf41-91d3c9dfba6a"
      },
      "execution_count": null,
      "outputs": [
        {
          "output_type": "execute_result",
          "data": {
            "text/plain": [
              "        VendorID tpep_pickup_datetime tpep_dropoff_datetime  passenger_count  \\\n",
              "2252278        2  2025-01-25 01:03:43   2025-01-25 01:09:42                1   \n",
              "1383126        2  2025-01-16 08:49:57   2025-01-16 09:48:45                2   \n",
              "1490429        2  2025-01-17 07:39:56   2025-01-17 08:00:24                1   \n",
              "2036400        2  2025-01-23 08:29:01   2025-01-23 08:41:51                3   \n",
              "1098492        2  2025-01-13 12:07:12   2025-01-13 12:48:15                2   \n",
              "\n",
              "         trip_distance  RatecodeID store_and_fwd_flag  PULocationID  \\\n",
              "2252278           0.70           1                  N            79   \n",
              "1383126          18.34           2                  N           132   \n",
              "1490429           2.03           1                  N           151   \n",
              "2036400           1.83           1                  N           162   \n",
              "1098492          16.52           1                  N           132   \n",
              "\n",
              "         DOLocationID payment_type  ...  improvement_surcharge  total_amount  \\\n",
              "2252278            79            1  ...                    1.0         15.54   \n",
              "1383126           152            1  ...                    1.0         84.20   \n",
              "1490429           263            1  ...                    1.0         23.88   \n",
              "2036400           140            1  ...                    1.0         21.90   \n",
              "1098492            17            1  ...                    1.0         71.95   \n",
              "\n",
              "         congestion_surcharge  Airport_fee  cbd_congestion_fee  trip_duration  \\\n",
              "2252278                   2.5         0.00                0.75       5.983333   \n",
              "1383126                   0.0         1.75                0.00      58.800000   \n",
              "1490429                   0.0         0.00                0.00      20.466667   \n",
              "2036400                   2.5         0.00                0.75      12.833333   \n",
              "1098492                   0.0         1.75                0.00      41.050000   \n",
              "\n",
              "         pickup_hour  pickup_day_of_week  speed_mph  tip_percentage  \n",
              "2252278            1            Saturday   7.019499       35.972222  \n",
              "1383126            8            Thursday  18.714286        5.728571  \n",
              "1490429            7              Friday   5.951140       21.630435  \n",
              "2036400            8            Thursday   8.555844       27.037037  \n",
              "1098492           12              Monday  24.146163        2.998501  \n",
              "\n",
              "[5 rows x 25 columns]"
            ],
            "text/html": [
              "\n",
              "  <div id=\"df-4d6ade7b-40df-4479-ada7-68351e8a6a20\" class=\"colab-df-container\">\n",
              "    <div>\n",
              "<style scoped>\n",
              "    .dataframe tbody tr th:only-of-type {\n",
              "        vertical-align: middle;\n",
              "    }\n",
              "\n",
              "    .dataframe tbody tr th {\n",
              "        vertical-align: top;\n",
              "    }\n",
              "\n",
              "    .dataframe thead th {\n",
              "        text-align: right;\n",
              "    }\n",
              "</style>\n",
              "<table border=\"1\" class=\"dataframe\">\n",
              "  <thead>\n",
              "    <tr style=\"text-align: right;\">\n",
              "      <th></th>\n",
              "      <th>VendorID</th>\n",
              "      <th>tpep_pickup_datetime</th>\n",
              "      <th>tpep_dropoff_datetime</th>\n",
              "      <th>passenger_count</th>\n",
              "      <th>trip_distance</th>\n",
              "      <th>RatecodeID</th>\n",
              "      <th>store_and_fwd_flag</th>\n",
              "      <th>PULocationID</th>\n",
              "      <th>DOLocationID</th>\n",
              "      <th>payment_type</th>\n",
              "      <th>...</th>\n",
              "      <th>improvement_surcharge</th>\n",
              "      <th>total_amount</th>\n",
              "      <th>congestion_surcharge</th>\n",
              "      <th>Airport_fee</th>\n",
              "      <th>cbd_congestion_fee</th>\n",
              "      <th>trip_duration</th>\n",
              "      <th>pickup_hour</th>\n",
              "      <th>pickup_day_of_week</th>\n",
              "      <th>speed_mph</th>\n",
              "      <th>tip_percentage</th>\n",
              "    </tr>\n",
              "  </thead>\n",
              "  <tbody>\n",
              "    <tr>\n",
              "      <th>2252278</th>\n",
              "      <td>2</td>\n",
              "      <td>2025-01-25 01:03:43</td>\n",
              "      <td>2025-01-25 01:09:42</td>\n",
              "      <td>1</td>\n",
              "      <td>0.70</td>\n",
              "      <td>1</td>\n",
              "      <td>N</td>\n",
              "      <td>79</td>\n",
              "      <td>79</td>\n",
              "      <td>1</td>\n",
              "      <td>...</td>\n",
              "      <td>1.0</td>\n",
              "      <td>15.54</td>\n",
              "      <td>2.5</td>\n",
              "      <td>0.00</td>\n",
              "      <td>0.75</td>\n",
              "      <td>5.983333</td>\n",
              "      <td>1</td>\n",
              "      <td>Saturday</td>\n",
              "      <td>7.019499</td>\n",
              "      <td>35.972222</td>\n",
              "    </tr>\n",
              "    <tr>\n",
              "      <th>1383126</th>\n",
              "      <td>2</td>\n",
              "      <td>2025-01-16 08:49:57</td>\n",
              "      <td>2025-01-16 09:48:45</td>\n",
              "      <td>2</td>\n",
              "      <td>18.34</td>\n",
              "      <td>2</td>\n",
              "      <td>N</td>\n",
              "      <td>132</td>\n",
              "      <td>152</td>\n",
              "      <td>1</td>\n",
              "      <td>...</td>\n",
              "      <td>1.0</td>\n",
              "      <td>84.20</td>\n",
              "      <td>0.0</td>\n",
              "      <td>1.75</td>\n",
              "      <td>0.00</td>\n",
              "      <td>58.800000</td>\n",
              "      <td>8</td>\n",
              "      <td>Thursday</td>\n",
              "      <td>18.714286</td>\n",
              "      <td>5.728571</td>\n",
              "    </tr>\n",
              "    <tr>\n",
              "      <th>1490429</th>\n",
              "      <td>2</td>\n",
              "      <td>2025-01-17 07:39:56</td>\n",
              "      <td>2025-01-17 08:00:24</td>\n",
              "      <td>1</td>\n",
              "      <td>2.03</td>\n",
              "      <td>1</td>\n",
              "      <td>N</td>\n",
              "      <td>151</td>\n",
              "      <td>263</td>\n",
              "      <td>1</td>\n",
              "      <td>...</td>\n",
              "      <td>1.0</td>\n",
              "      <td>23.88</td>\n",
              "      <td>0.0</td>\n",
              "      <td>0.00</td>\n",
              "      <td>0.00</td>\n",
              "      <td>20.466667</td>\n",
              "      <td>7</td>\n",
              "      <td>Friday</td>\n",
              "      <td>5.951140</td>\n",
              "      <td>21.630435</td>\n",
              "    </tr>\n",
              "    <tr>\n",
              "      <th>2036400</th>\n",
              "      <td>2</td>\n",
              "      <td>2025-01-23 08:29:01</td>\n",
              "      <td>2025-01-23 08:41:51</td>\n",
              "      <td>3</td>\n",
              "      <td>1.83</td>\n",
              "      <td>1</td>\n",
              "      <td>N</td>\n",
              "      <td>162</td>\n",
              "      <td>140</td>\n",
              "      <td>1</td>\n",
              "      <td>...</td>\n",
              "      <td>1.0</td>\n",
              "      <td>21.90</td>\n",
              "      <td>2.5</td>\n",
              "      <td>0.00</td>\n",
              "      <td>0.75</td>\n",
              "      <td>12.833333</td>\n",
              "      <td>8</td>\n",
              "      <td>Thursday</td>\n",
              "      <td>8.555844</td>\n",
              "      <td>27.037037</td>\n",
              "    </tr>\n",
              "    <tr>\n",
              "      <th>1098492</th>\n",
              "      <td>2</td>\n",
              "      <td>2025-01-13 12:07:12</td>\n",
              "      <td>2025-01-13 12:48:15</td>\n",
              "      <td>2</td>\n",
              "      <td>16.52</td>\n",
              "      <td>1</td>\n",
              "      <td>N</td>\n",
              "      <td>132</td>\n",
              "      <td>17</td>\n",
              "      <td>1</td>\n",
              "      <td>...</td>\n",
              "      <td>1.0</td>\n",
              "      <td>71.95</td>\n",
              "      <td>0.0</td>\n",
              "      <td>1.75</td>\n",
              "      <td>0.00</td>\n",
              "      <td>41.050000</td>\n",
              "      <td>12</td>\n",
              "      <td>Monday</td>\n",
              "      <td>24.146163</td>\n",
              "      <td>2.998501</td>\n",
              "    </tr>\n",
              "  </tbody>\n",
              "</table>\n",
              "<p>5 rows × 25 columns</p>\n",
              "</div>\n",
              "    <div class=\"colab-df-buttons\">\n",
              "\n",
              "  <div class=\"colab-df-container\">\n",
              "    <button class=\"colab-df-convert\" onclick=\"convertToInteractive('df-4d6ade7b-40df-4479-ada7-68351e8a6a20')\"\n",
              "            title=\"Convert this dataframe to an interactive table.\"\n",
              "            style=\"display:none;\">\n",
              "\n",
              "  <svg xmlns=\"http://www.w3.org/2000/svg\" height=\"24px\" viewBox=\"0 -960 960 960\">\n",
              "    <path d=\"M120-120v-720h720v720H120Zm60-500h600v-160H180v160Zm220 220h160v-160H400v160Zm0 220h160v-160H400v160ZM180-400h160v-160H180v160Zm440 0h160v-160H620v160ZM180-180h160v-160H180v160Zm440 0h160v-160H620v160Z\"/>\n",
              "  </svg>\n",
              "    </button>\n",
              "\n",
              "  <style>\n",
              "    .colab-df-container {\n",
              "      display:flex;\n",
              "      gap: 12px;\n",
              "    }\n",
              "\n",
              "    .colab-df-convert {\n",
              "      background-color: #E8F0FE;\n",
              "      border: none;\n",
              "      border-radius: 50%;\n",
              "      cursor: pointer;\n",
              "      display: none;\n",
              "      fill: #1967D2;\n",
              "      height: 32px;\n",
              "      padding: 0 0 0 0;\n",
              "      width: 32px;\n",
              "    }\n",
              "\n",
              "    .colab-df-convert:hover {\n",
              "      background-color: #E2EBFA;\n",
              "      box-shadow: 0px 1px 2px rgba(60, 64, 67, 0.3), 0px 1px 3px 1px rgba(60, 64, 67, 0.15);\n",
              "      fill: #174EA6;\n",
              "    }\n",
              "\n",
              "    .colab-df-buttons div {\n",
              "      margin-bottom: 4px;\n",
              "    }\n",
              "\n",
              "    [theme=dark] .colab-df-convert {\n",
              "      background-color: #3B4455;\n",
              "      fill: #D2E3FC;\n",
              "    }\n",
              "\n",
              "    [theme=dark] .colab-df-convert:hover {\n",
              "      background-color: #434B5C;\n",
              "      box-shadow: 0px 1px 3px 1px rgba(0, 0, 0, 0.15);\n",
              "      filter: drop-shadow(0px 1px 2px rgba(0, 0, 0, 0.3));\n",
              "      fill: #FFFFFF;\n",
              "    }\n",
              "  </style>\n",
              "\n",
              "    <script>\n",
              "      const buttonEl =\n",
              "        document.querySelector('#df-4d6ade7b-40df-4479-ada7-68351e8a6a20 button.colab-df-convert');\n",
              "      buttonEl.style.display =\n",
              "        google.colab.kernel.accessAllowed ? 'block' : 'none';\n",
              "\n",
              "      async function convertToInteractive(key) {\n",
              "        const element = document.querySelector('#df-4d6ade7b-40df-4479-ada7-68351e8a6a20');\n",
              "        const dataTable =\n",
              "          await google.colab.kernel.invokeFunction('convertToInteractive',\n",
              "                                                    [key], {});\n",
              "        if (!dataTable) return;\n",
              "\n",
              "        const docLinkHtml = 'Like what you see? Visit the ' +\n",
              "          '<a target=\"_blank\" href=https://colab.research.google.com/notebooks/data_table.ipynb>data table notebook</a>'\n",
              "          + ' to learn more about interactive tables.';\n",
              "        element.innerHTML = '';\n",
              "        dataTable['output_type'] = 'display_data';\n",
              "        await google.colab.output.renderOutput(dataTable, element);\n",
              "        const docLink = document.createElement('div');\n",
              "        docLink.innerHTML = docLinkHtml;\n",
              "        element.appendChild(docLink);\n",
              "      }\n",
              "    </script>\n",
              "  </div>\n",
              "\n",
              "\n",
              "    <div id=\"df-887db5de-e2f9-4994-bf8a-8ed1d4eef317\">\n",
              "      <button class=\"colab-df-quickchart\" onclick=\"quickchart('df-887db5de-e2f9-4994-bf8a-8ed1d4eef317')\"\n",
              "                title=\"Suggest charts\"\n",
              "                style=\"display:none;\">\n",
              "\n",
              "<svg xmlns=\"http://www.w3.org/2000/svg\" height=\"24px\"viewBox=\"0 0 24 24\"\n",
              "     width=\"24px\">\n",
              "    <g>\n",
              "        <path d=\"M19 3H5c-1.1 0-2 .9-2 2v14c0 1.1.9 2 2 2h14c1.1 0 2-.9 2-2V5c0-1.1-.9-2-2-2zM9 17H7v-7h2v7zm4 0h-2V7h2v10zm4 0h-2v-4h2v4z\"/>\n",
              "    </g>\n",
              "</svg>\n",
              "      </button>\n",
              "\n",
              "<style>\n",
              "  .colab-df-quickchart {\n",
              "      --bg-color: #E8F0FE;\n",
              "      --fill-color: #1967D2;\n",
              "      --hover-bg-color: #E2EBFA;\n",
              "      --hover-fill-color: #174EA6;\n",
              "      --disabled-fill-color: #AAA;\n",
              "      --disabled-bg-color: #DDD;\n",
              "  }\n",
              "\n",
              "  [theme=dark] .colab-df-quickchart {\n",
              "      --bg-color: #3B4455;\n",
              "      --fill-color: #D2E3FC;\n",
              "      --hover-bg-color: #434B5C;\n",
              "      --hover-fill-color: #FFFFFF;\n",
              "      --disabled-bg-color: #3B4455;\n",
              "      --disabled-fill-color: #666;\n",
              "  }\n",
              "\n",
              "  .colab-df-quickchart {\n",
              "    background-color: var(--bg-color);\n",
              "    border: none;\n",
              "    border-radius: 50%;\n",
              "    cursor: pointer;\n",
              "    display: none;\n",
              "    fill: var(--fill-color);\n",
              "    height: 32px;\n",
              "    padding: 0;\n",
              "    width: 32px;\n",
              "  }\n",
              "\n",
              "  .colab-df-quickchart:hover {\n",
              "    background-color: var(--hover-bg-color);\n",
              "    box-shadow: 0 1px 2px rgba(60, 64, 67, 0.3), 0 1px 3px 1px rgba(60, 64, 67, 0.15);\n",
              "    fill: var(--button-hover-fill-color);\n",
              "  }\n",
              "\n",
              "  .colab-df-quickchart-complete:disabled,\n",
              "  .colab-df-quickchart-complete:disabled:hover {\n",
              "    background-color: var(--disabled-bg-color);\n",
              "    fill: var(--disabled-fill-color);\n",
              "    box-shadow: none;\n",
              "  }\n",
              "\n",
              "  .colab-df-spinner {\n",
              "    border: 2px solid var(--fill-color);\n",
              "    border-color: transparent;\n",
              "    border-bottom-color: var(--fill-color);\n",
              "    animation:\n",
              "      spin 1s steps(1) infinite;\n",
              "  }\n",
              "\n",
              "  @keyframes spin {\n",
              "    0% {\n",
              "      border-color: transparent;\n",
              "      border-bottom-color: var(--fill-color);\n",
              "      border-left-color: var(--fill-color);\n",
              "    }\n",
              "    20% {\n",
              "      border-color: transparent;\n",
              "      border-left-color: var(--fill-color);\n",
              "      border-top-color: var(--fill-color);\n",
              "    }\n",
              "    30% {\n",
              "      border-color: transparent;\n",
              "      border-left-color: var(--fill-color);\n",
              "      border-top-color: var(--fill-color);\n",
              "      border-right-color: var(--fill-color);\n",
              "    }\n",
              "    40% {\n",
              "      border-color: transparent;\n",
              "      border-right-color: var(--fill-color);\n",
              "      border-top-color: var(--fill-color);\n",
              "    }\n",
              "    60% {\n",
              "      border-color: transparent;\n",
              "      border-right-color: var(--fill-color);\n",
              "    }\n",
              "    80% {\n",
              "      border-color: transparent;\n",
              "      border-right-color: var(--fill-color);\n",
              "      border-bottom-color: var(--fill-color);\n",
              "    }\n",
              "    90% {\n",
              "      border-color: transparent;\n",
              "      border-bottom-color: var(--fill-color);\n",
              "    }\n",
              "  }\n",
              "</style>\n",
              "\n",
              "      <script>\n",
              "        async function quickchart(key) {\n",
              "          const quickchartButtonEl =\n",
              "            document.querySelector('#' + key + ' button');\n",
              "          quickchartButtonEl.disabled = true;  // To prevent multiple clicks.\n",
              "          quickchartButtonEl.classList.add('colab-df-spinner');\n",
              "          try {\n",
              "            const charts = await google.colab.kernel.invokeFunction(\n",
              "                'suggestCharts', [key], {});\n",
              "          } catch (error) {\n",
              "            console.error('Error during call to suggestCharts:', error);\n",
              "          }\n",
              "          quickchartButtonEl.classList.remove('colab-df-spinner');\n",
              "          quickchartButtonEl.classList.add('colab-df-quickchart-complete');\n",
              "        }\n",
              "        (() => {\n",
              "          let quickchartButtonEl =\n",
              "            document.querySelector('#df-887db5de-e2f9-4994-bf8a-8ed1d4eef317 button');\n",
              "          quickchartButtonEl.style.display =\n",
              "            google.colab.kernel.accessAllowed ? 'block' : 'none';\n",
              "        })();\n",
              "      </script>\n",
              "    </div>\n",
              "\n",
              "    </div>\n",
              "  </div>\n"
            ],
            "application/vnd.google.colaboratory.intrinsic+json": {
              "type": "dataframe"
            }
          },
          "metadata": {},
          "execution_count": 76
        }
      ]
    },
    {
      "cell_type": "markdown",
      "source": [
        "## Analysis"
      ],
      "metadata": {
        "id": "nayfbq48ZB51"
      }
    },
    {
      "cell_type": "code",
      "source": [
        "import matplotlib.pyplot as plt\n",
        "import seaborn as sns\n",
        "\n",
        "# Set a consistent style for plots\n",
        "sns.set_style(\"whitegrid\")\n",
        "\n",
        "# Analyze demand by hour of the day\n",
        "plt.figure(figsize=(12, 6))\n",
        "sns.countplot(data=df, x='pickup_hour')\n",
        "plt.title('Trip Demand by Hour of the Day')\n",
        "plt.xlabel('Hour of Day (0-23)')\n",
        "plt.ylabel('Number of Trips')\n",
        "plt.show()\n",
        "\n",
        "# Analyze demand by day of the week\n",
        "plt.figure(figsize=(12, 6))\n",
        "# Order the days correctly\n",
        "day_order = ['Monday', 'Tuesday', 'Wednesday', 'Thursday', 'Friday', 'Saturday', 'Sunday']\n",
        "sns.countplot(data=df, x='pickup_day_of_week', order=day_order)\n",
        "plt.title('Trip Demand by Day of the Week')\n",
        "plt.xlabel('Day of the Week')\n",
        "plt.ylabel('Number of Trips')\n",
        "plt.show()"
      ],
      "metadata": {
        "colab": {
          "base_uri": "https://localhost:8080/",
          "height": 1000
        },
        "id": "kXO_bkGfYfSb",
        "outputId": "4d69a8a2-bc93-4ad9-972e-bf65e0e8cbb1"
      },
      "execution_count": null,
      "outputs": [
        {
          "output_type": "display_data",
          "data": {
            "text/plain": [
              "<Figure size 1200x600 with 1 Axes>"
            ],
            "image/png": "[encoded data removed]"
          },
          "metadata": {}
        },
        {
          "output_type": "display_data",
          "data": {
            "text/plain": [
              "<Figure size 1200x600 with 1 Axes>"
            ],
            "image/png": "[encoded data removed]"
          },
          "metadata": {}
        }
      ]
    },
    {
      "cell_type": "markdown",
      "source": [],
      "metadata": {
        "id": "f0Hb_9E5bNSe"
      }
    },
    {
      "cell_type": "markdown",
      "source": [
        "we will import the pickup zone csv file to get atual location name from PULocationID"
      ],
      "metadata": {
        "id": "r58kPf-xbxLQ"
      }
    },
    {
      "cell_type": "code",
      "source": [
        "zones_df = pd.read_csv(\"/content/taxi_zone_lookup.csv\")"
      ],
      "metadata": {
        "id": "ykUQV7PpcKlk"
      },
      "execution_count": null,
      "outputs": []
    },
    {
      "cell_type": "code",
      "source": [
        "# Assuming you have loaded the taxi zone lookup file into a DataFrame called `zones_df`\n",
        "\n",
        "# Find the top 10 most profitable pickup zones\n",
        "profitable_zones = df.groupby('PULocationID')['total_amount'].mean().nlargest(10).reset_index()\n",
        "\n",
        "# Merge with zones_df to get the actual names\n",
        "merged_zones = profitable_zones.merge(zones_df, left_on='PULocationID', right_on='LocationID')\n",
        "\n",
        "print(\"Top 10 Most Profitable Pickup Zones (by Average Fare):\")\n",
        "print(merged_zones[['Zone', 'total_amount']])"
      ],
      "metadata": {
        "colab": {
          "base_uri": "https://localhost:8080/"
        },
        "id": "g1QkSiV1Z3AH",
        "outputId": "62ffa6a1-81d4-4db0-e016-28b592d9480c"
      },
      "execution_count": null,
      "outputs": [
        {
          "output_type": "stream",
          "name": "stdout",
          "text": [
            "Top 10 Most Profitable Pickup Zones (by Average Fare):\n",
            "                                  Zone  total_amount\n",
            "0                       Newark Airport    100.790000\n",
            "1                        Arden Heights     96.670000\n",
            "2  Breezy Point/Fort Tilden/Riis Beach     93.190000\n",
            "3                        Rikers Island     84.470000\n",
            "4                       Outside of NYC     84.451069\n",
            "5                    Rossville/Woodrow     81.886667\n",
            "6         Flushing Meadows-Corona Park     81.523348\n",
            "7                          JFK Airport     81.209424\n",
            "8                    LaGuardia Airport     76.849616\n",
            "9                         Astoria Park     65.935789\n"
          ]
        }
      ]
    },
    {
      "cell_type": "code",
      "source": [
        "# Count the number of trips for each pickup location ID\n",
        "busiest_zones = df['PULocationID'].value_counts().nlargest(10).reset_index()\n",
        "busiest_zones.columns = ['PULocationID', 'trip_count'] # Renamed columns for clarity\n",
        "\n",
        "# Merge with the zones lookup table to get the actual zone names\n",
        "busiest_zones_with_names = busiest_zones.merge(zones_df, left_on='PULocationID', right_on='LocationID')\n",
        "\n",
        "print(\"Top 10 Busiest Pickup Zones (by Number of Trips):\")\n",
        "print(busiest_zones_with_names[['Zone', 'Borough', 'trip_count']])"
      ],
      "metadata": {
        "colab": {
          "base_uri": "https://localhost:8080/"
        },
        "id": "BV9ca1dZeNp7",
        "outputId": "45a6e81a-a6bf-44ab-de53-8a4a68b3c9bf"
      },
      "execution_count": null,
      "outputs": [
        {
          "output_type": "stream",
          "name": "stdout",
          "text": [
            "Top 10 Busiest Pickup Zones (by Number of Trips):\n",
            "                           Zone    Borough  trip_count\n",
            "0                Midtown Center  Manhattan      161066\n",
            "1         Upper East Side South  Manhattan      157718\n",
            "2         Upper East Side North  Manhattan      149491\n",
            "3                   JFK Airport     Queens      133529\n",
            "4     Times Sq/Theatre District  Manhattan      118045\n",
            "5  Penn Station/Madison Sq West  Manhattan      113977\n",
            "6                  Midtown East  Manhattan      112420\n",
            "7           Lincoln Square East  Manhattan      105840\n",
            "8         Upper West Side South  Manhattan       91713\n",
            "9                 Midtown North  Manhattan       91372\n"
          ]
        }
      ]
    },
    {
      "cell_type": "code",
      "source": [
        "# Analyzing relationship between distance and fare\n",
        "plt.figure(figsize=(10, 6))\n",
        "# Using a sample of 10,000 to prevent the plot from being too crowded\n",
        "sns.scatterplot(data=df.sample(10000), x='trip_distance', y='total_amount')\n",
        "plt.title('Trip Distance vs. Total Fare')\n",
        "plt.xlabel('Distance (miles)')\n",
        "plt.ylabel('Total Fare ($)')\n",
        "plt.show()\n",
        "\n",
        "\n",
        "# Analyzing tip percentage distribution (only for credit card trips where a tip was given)\n",
        "plt.figure(figsize=(10, 6))\n",
        "sns.histplot(df[(df['tip_percentage'] > 0) & (df['tip_percentage'] < 50)]['tip_percentage'], bins=30, kde=True)\n",
        "plt.title('Distribution of Tip Percentage (Credit Card Payments)')\n",
        "plt.xlabel('Tip Percentage (%)')\n",
        "plt.ylabel('Frequency')\n",
        "plt.show()"
      ],
      "metadata": {
        "colab": {
          "base_uri": "https://localhost:8080/",
          "height": 1000
        },
        "id": "q-xg1xFueOTF",
        "outputId": "5b348981-9c33-431b-d0b1-fbdaba05c3f2"
      },
      "execution_count": null,
      "outputs": [
        {
          "output_type": "display_data",
          "data": {
            "text/plain": [
              "<Figure size 1000x600 with 1 Axes>"
            ],
            "image/png": "[encoded data removed]"
          },
          "metadata": {}
        },
        {
          "output_type": "display_data",
          "data": {
            "text/plain": [
              "<Figure size 1000x600 with 1 Axes>"
            ],
            "image/png": "[encoded data removed]"
          },
          "metadata": {}
        }
      ]
    },
    {
      "cell_type": "code",
      "source": [],
      "metadata": {
        "id": "LVvwVbZpfHY5"
      },
      "execution_count": null,
      "outputs": []
    }
  ]
}